{
  "cells": [
    {
      "cell_type": "code",
      "source": [
        "from azureml.core import Workspace, Experiment\n",
        "\n",
        "ws = Workspace.get(name=\"quick-starts-ws-134795\")\n",
        "exp = Experiment(workspace=ws, name=\"quick-starts-ws-134795\")\n",
        "\n",
        "print('Workspace name: ' + ws.name, \n",
        "      'Azure region: ' + ws.location, \n",
        "      'Subscription id: ' + ws.subscription_id, \n",
        "      'Resource group: ' + ws.resource_group, sep = '\\n')\n",
        "\n",
        "run = exp.start_logging()"
      ],
      "outputs": [
        {
          "output_type": "stream",
          "name": "stdout",
          "text": [
            "Performing interactive authentication. Please follow the instructions on the terminal.\n",
            "To sign in, use a web browser to open the page https://microsoft.com/devicelogin and enter the code F8NLCN2LC to authenticate.\n",
            "You have logged in. Now let us find all the subscriptions to which you have access...\n",
            "Interactive authentication successfully completed.\n",
            "Workspace name: quick-starts-ws-134795\n",
            "Azure region: southcentralus\n",
            "Subscription id: 9a7511b8-150f-4a58-8528-3e7d50216c31\n",
            "Resource group: aml-quickstarts-134795\n"
          ]
        }
      ],
      "execution_count": 1,
      "metadata": {
        "gather": {
          "logged": 1610735340149
        },
        "id": "a1dqucoVWsfB",
        "outputId": "68a7e3d7-8db3-492c-ee65-33d472c427ea"
      }
    },
    {
      "cell_type": "code",
      "source": [
        "from azureml.core.compute import ComputeTarget, AmlCompute\n",
        "\n",
        "# TODO: Create compute cluster\n",
        "# Use vm_size = \"Standard_D2_V2\" in your provisioning configuration.\n",
        "# max_nodes should be no greater than 4.\n",
        "\n",
        "### YOUR CODE HERE ###\n",
        "from azureml.core.compute_target import ComputeTargetException\n",
        "cpu_cluster_name = \"hyperdriveml\"\n",
        "cpu_cluster = ComputeTarget(ws,cpu_cluster_name)\n",
        "\n",
        "try:\n",
        "       cpu_cluster = ComputeTarget(workspace=ws, name=cpu_cluster_name)\n",
        "       print('Found existing cluster, use it.')\n",
        "except ComputeTargetException:\n",
        "    compute_config = AmlCompute.provisioning_configuration(vm_size='STANDARD_D2_V2',\n",
        "                                                          max_nodes=4)\n",
        "    cpu_cluster = ComputeTarget.create(ws, cpu_cluster_name, compute_config)\n",
        "\n",
        "cpu_cluster.wait_for_completion(show_output=True)"
      ],
      "outputs": [
        {
          "output_type": "stream",
          "name": "stdout",
          "text": [
            "Found existing cluster, use it.\n",
            "\n",
            "Running\n"
          ]
        }
      ],
      "execution_count": 2,
      "metadata": {
        "gather": {
          "logged": 1610735348797
        },
        "id": "kuel1xhkWsfL",
        "jupyter": {
          "outputs_hidden": false,
          "source_hidden": false
        },
        "nteract": {
          "transient": {
            "deleting": false
          }
        }
      }
    },
    {
      "cell_type": "code",
      "source": [
        "%%writefile conda_dependencies.yml\n",
        "\n",
        "dependencies:\n",
        "  - python=3.6.2\n",
        "  - scikit-learn\n",
        "  - numpy\n",
        "  - pip:\n",
        "    - azureml-defaults"
      ],
      "outputs": [
        {
          "output_type": "stream",
          "name": "stdout",
          "text": [
            "Writing conda_dependencies.yml\n"
          ]
        }
      ],
      "execution_count": 3,
      "metadata": {
        "collapsed": true,
        "jupyter": {
          "outputs_hidden": false,
          "source_hidden": false
        },
        "nteract": {
          "transient": {
            "deleting": false
          }
        }
      }
    },
    {
      "cell_type": "code",
      "source": [
        "from azureml.core import Environment\n",
        "sklearn_env = Environment.from_conda_specification(name='sklearn-env', file_path='conda_dependencies.yml')"
      ],
      "outputs": [],
      "execution_count": 4,
      "metadata": {
        "collapsed": true,
        "gather": {
          "logged": 1610735354917
        },
        "jupyter": {
          "outputs_hidden": false,
          "source_hidden": false
        },
        "nteract": {
          "transient": {
            "deleting": false
          }
        }
      }
    },
    {
      "cell_type": "code",
      "source": [
        "from azureml.widgets import RunDetails\n",
        "from azureml.train.sklearn import SKLearn\n",
        "from azureml.core import ScriptRunConfig\n",
        "from azureml.core.runconfig import RunConfiguration\n",
        "from azureml.core.conda_dependencies import CondaDependencies\n",
        "from azureml.train.hyperdrive.run import PrimaryMetricGoal\n",
        "from azureml.train.hyperdrive.policy import BanditPolicy\n",
        "from azureml.train.hyperdrive.sampling import RandomParameterSampling\n",
        "from azureml.train.hyperdrive.runconfig import HyperDriveConfig\n",
        "from azureml.train.hyperdrive.parameter_expressions import uniform,choice\n",
        "import os\n",
        "\n",
        "# Specify parameter sampler\n",
        "ps =  RandomParameterSampling({\"max_iter\" : choice(100,150,200,250),\n",
        "                                \"C\" : choice(0.01,0.05,0.2,1,5,10)\n",
        "                                })\n",
        "\n",
        "# Specify a Policy\n",
        "policy = BanditPolicy(evaluation_interval=1, slack_factor=0.2, delay_evaluation=0)\n",
        "\n",
        "if \"training\" not in os.listdir():\n",
        "    os.mkdir(\"./training\")\n",
        "\n",
        "# Create a SKLearn estimator for use with train.py\n",
        "src = ScriptRunConfig(source_directory='./',\n",
        "                      script='train.py',\n",
        "                      compute_target=cpu_cluster,                      \n",
        "                      environment=sklearn_env)\n",
        "\n",
        "\n",
        "# est = SKLearn(source_directory='./',               \n",
        "#             compute_target=cpu_cluster,\n",
        "#             entry_script='train.py')\n",
        "\n",
        "# Create a HyperDriveConfig using the estimator, hyperparameter sampler, and policy.\n",
        "hd_config = HyperDriveConfig(run_config=src,\n",
        "                                hyperparameter_sampling=ps,\n",
        "                                policy=policy,\n",
        "                                primary_metric_name='Accuracy',\n",
        "                                primary_metric_goal=PrimaryMetricGoal.MAXIMIZE,\n",
        "                                max_total_runs=20,\n",
        "                                max_concurrent_runs=4)"
      ],
      "outputs": [],
      "execution_count": 15,
      "metadata": {
        "gather": {
          "logged": 1610498218048
        },
        "id": "fpEp9Su2WsfM",
        "jupyter": {
          "outputs_hidden": false,
          "source_hidden": false
        },
        "nteract": {
          "transient": {
            "deleting": false
          }
        }
      }
    },
    {
      "cell_type": "code",
      "source": [
        "# Submit your hyperdrive run to the experiment and show run details with the widget.\n",
        "#experimnt = Experiment(ws,exp)\n",
        "hd_run = exp.submit(hd_config)\n",
        "hd_run.wait_for_completion(show_output=True)\n",
        "RunDetails(hd_run).show()\n",
        "### YOUR CODE HERE ###"
      ],
      "outputs": [
        {
          "output_type": "stream",
          "name": "stdout",
          "text": [
            "RunId: HD_9490a8f0-a5ce-49af-b1a4-52c3ae500b76\n",
            "Web View: https://ml.azure.com/experiments/quick-starts-ws-134504/runs/HD_9490a8f0-a5ce-49af-b1a4-52c3ae500b76?wsid=/subscriptions/9a7511b8-150f-4a58-8528-3e7d50216c31/resourcegroups/aml-quickstarts-134504/workspaces/quick-starts-ws-134504\n",
            "\n",
            "Streaming azureml-logs/hyperdrive.txt\n",
            "=====================================\n",
            "\n",
            "\"<START>[2021-01-13T00:37:08.394913][API][INFO]Experiment created<END>\\n\"<START>[2021-01-13T00:37:10.0850328Z][SCHEDULER][INFO]The execution environment is being prepared. Please be patient as it can take a few minutes.<END>\"<START>[2021-01-13T00:37:11.346218][GENERATOR][INFO]Trying to sample '4' jobs from the hyperparameter space<END>\\n\"\"<START>[2021-01-13T00:37:11.670879][GENERATOR][INFO]Successfully sampled '4' jobs, they will soon be submitted to the execution target.<END>\\n\"\n"
          ]
        }
      ],
      "execution_count": 16,
      "metadata": {
        "gather": {
          "logged": 1610498195959
        },
        "id": "Rhet9QuvWsfN"
      }
    },
    {
      "cell_type": "code",
      "source": [
        "import joblib\n",
        "# Get your best run and save the model from that run.\n",
        "best_run = hd_run.get_best_run_by_primary_metric()\n",
        "model_name = best_run.properties['model_name']\n",
        "\n",
        "### YOUR CODE HERE ###\n",
        "joblib.dump(model_name,'model.joblib')"
      ],
      "outputs": [],
      "execution_count": null,
      "metadata": {
        "gather": {
          "logged": 1598276310862
        },
        "id": "WT7VtwXfWsfO",
        "jupyter": {
          "outputs_hidden": false,
          "source_hidden": false
        },
        "nteract": {
          "transient": {
            "deleting": false
          }
        }
      }
    },
    {
      "cell_type": "code",
      "source": [
        "from azureml.data.dataset_factory import TabularDatasetFactory\n",
        "from azureml.core.dataset import Dataset\n",
        "\n",
        "# Create TabularDataset using TabularDatasetFactory\n",
        "# Data is available at: \n",
        "# \"https://automlsamplenotebookdata.blob.core.windows.net/automl-sample-notebook-data/bankmarketing_train.csv\"\n",
        "\n",
        "### YOUR CODE HERE ###\n",
        "data = \"https://automlsamplenotebookdata.blob.core.windows.net/automl-sample-notebook-data/bankmarketing_train.csv\"\n",
        "\n",
        "datastore = ws.get_default_datastore()\n",
        "datastore.upload_files(files = ['./bankmarketing_train.csv'],\n",
        "                        target_path = './',\n",
        "                        overwrite=True,\n",
        "                        show_progress=True)\n",
        "dataset = Dataset.Tabular.from_delimited_files(path = [(datastore, \"./\")])\n",
        "\n"
      ],
      "outputs": [
        {
          "output_type": "stream",
          "name": "stdout",
          "text": [
            "Uploading an estimated of 1 files\n",
            "Uploading ./bankmarketing_train.csv\n",
            "Uploaded ./bankmarketing_train.csv, 1 files out of an estimated total of 1\n",
            "Uploaded 1 files\n"
          ]
        }
      ],
      "execution_count": 37,
      "metadata": {
        "id": "__KzvJ1YWsfO",
        "gather": {
          "logged": 1610738139620
        }
      }
    },
    {
      "cell_type": "code",
      "source": [
        "from train import clean_data\n",
        "\n",
        "# Use the clean_data function to clean your data.\n",
        "x, y = clean_data(dataset)\n",
        "x['y'] = y\n",
        "label = \"y\""
      ],
      "outputs": [],
      "execution_count": 38,
      "metadata": {
        "gather": {
          "logged": 1610738152538
        },
        "id": "VD0eauNMWsfP",
        "jupyter": {
          "outputs_hidden": false,
          "source_hidden": false
        },
        "nteract": {
          "transient": {
            "deleting": false
          }
        }
      }
    },
    {
      "cell_type": "code",
      "source": [
        "x.head()"
      ],
      "outputs": [
        {
          "output_type": "execute_result",
          "execution_count": 26,
          "data": {
            "text/plain": "   age  marital  default  housing  loan  month  day_of_week  duration  \\\n0   57        1        0        0     1      5            1       371   \n1   55        1        0        1     0      5            4       285   \n2   33        1        0        0     0      5            5        52   \n3   36        1        0        0     0      6            5       355   \n4   27        1        0        1     0      7            5       189   \n\n   campaign  pdays  ...  contact_telephone  education_basic.4y  \\\n0         1    999  ...                  0                   0   \n1         2    999  ...                  1                   0   \n2         1    999  ...                  0                   0   \n3         4    999  ...                  1                   0   \n4         2    999  ...                  0                   0   \n\n   education_basic.6y  education_basic.9y  education_high.school  \\\n0                   0                   0                      1   \n1                   0                   0                      0   \n2                   0                   1                      0   \n3                   0                   0                      1   \n4                   0                   0                      1   \n\n   education_illiterate  education_professional.course  \\\n0                     0                              0   \n1                     0                              0   \n2                     0                              0   \n3                     0                              0   \n4                     0                              0   \n\n   education_university.degree  education_unknown  y  \n0                            0                  0  0  \n1                            0                  1  0  \n2                            0                  0  0  \n3                            0                  0  0  \n4                            0                  0  0  \n\n[5 rows x 40 columns]",
            "text/html": "<div>\n<style scoped>\n    .dataframe tbody tr th:only-of-type {\n        vertical-align: middle;\n    }\n\n    .dataframe tbody tr th {\n        vertical-align: top;\n    }\n\n    .dataframe thead th {\n        text-align: right;\n    }\n</style>\n<table border=\"1\" class=\"dataframe\">\n  <thead>\n    <tr style=\"text-align: right;\">\n      <th></th>\n      <th>age</th>\n      <th>marital</th>\n      <th>default</th>\n      <th>housing</th>\n      <th>loan</th>\n      <th>month</th>\n      <th>day_of_week</th>\n      <th>duration</th>\n      <th>campaign</th>\n      <th>pdays</th>\n      <th>...</th>\n      <th>contact_telephone</th>\n      <th>education_basic.4y</th>\n      <th>education_basic.6y</th>\n      <th>education_basic.9y</th>\n      <th>education_high.school</th>\n      <th>education_illiterate</th>\n      <th>education_professional.course</th>\n      <th>education_university.degree</th>\n      <th>education_unknown</th>\n      <th>y</th>\n    </tr>\n  </thead>\n  <tbody>\n    <tr>\n      <th>0</th>\n      <td>57</td>\n      <td>1</td>\n      <td>0</td>\n      <td>0</td>\n      <td>1</td>\n      <td>5</td>\n      <td>1</td>\n      <td>371</td>\n      <td>1</td>\n      <td>999</td>\n      <td>...</td>\n      <td>0</td>\n      <td>0</td>\n      <td>0</td>\n      <td>0</td>\n      <td>1</td>\n      <td>0</td>\n      <td>0</td>\n      <td>0</td>\n      <td>0</td>\n      <td>0</td>\n    </tr>\n    <tr>\n      <th>1</th>\n      <td>55</td>\n      <td>1</td>\n      <td>0</td>\n      <td>1</td>\n      <td>0</td>\n      <td>5</td>\n      <td>4</td>\n      <td>285</td>\n      <td>2</td>\n      <td>999</td>\n      <td>...</td>\n      <td>1</td>\n      <td>0</td>\n      <td>0</td>\n      <td>0</td>\n      <td>0</td>\n      <td>0</td>\n      <td>0</td>\n      <td>0</td>\n      <td>1</td>\n      <td>0</td>\n    </tr>\n    <tr>\n      <th>2</th>\n      <td>33</td>\n      <td>1</td>\n      <td>0</td>\n      <td>0</td>\n      <td>0</td>\n      <td>5</td>\n      <td>5</td>\n      <td>52</td>\n      <td>1</td>\n      <td>999</td>\n      <td>...</td>\n      <td>0</td>\n      <td>0</td>\n      <td>0</td>\n      <td>1</td>\n      <td>0</td>\n      <td>0</td>\n      <td>0</td>\n      <td>0</td>\n      <td>0</td>\n      <td>0</td>\n    </tr>\n    <tr>\n      <th>3</th>\n      <td>36</td>\n      <td>1</td>\n      <td>0</td>\n      <td>0</td>\n      <td>0</td>\n      <td>6</td>\n      <td>5</td>\n      <td>355</td>\n      <td>4</td>\n      <td>999</td>\n      <td>...</td>\n      <td>1</td>\n      <td>0</td>\n      <td>0</td>\n      <td>0</td>\n      <td>1</td>\n      <td>0</td>\n      <td>0</td>\n      <td>0</td>\n      <td>0</td>\n      <td>0</td>\n    </tr>\n    <tr>\n      <th>4</th>\n      <td>27</td>\n      <td>1</td>\n      <td>0</td>\n      <td>1</td>\n      <td>0</td>\n      <td>7</td>\n      <td>5</td>\n      <td>189</td>\n      <td>2</td>\n      <td>999</td>\n      <td>...</td>\n      <td>0</td>\n      <td>0</td>\n      <td>0</td>\n      <td>0</td>\n      <td>1</td>\n      <td>0</td>\n      <td>0</td>\n      <td>0</td>\n      <td>0</td>\n      <td>0</td>\n    </tr>\n  </tbody>\n</table>\n<p>5 rows × 40 columns</p>\n</div>"
          },
          "metadata": {}
        }
      ],
      "execution_count": 26,
      "metadata": {
        "collapsed": true,
        "jupyter": {
          "source_hidden": false,
          "outputs_hidden": false
        },
        "nteract": {
          "transient": {
            "deleting": false
          }
        },
        "gather": {
          "logged": 1610737320014
        }
      }
    },
    {
      "cell_type": "code",
      "source": [
        "from azureml.train.automl import AutoMLConfig\n",
        "\n",
        "# Set parameters for AutoMLConfig\n",
        "# NOTE: DO NOT CHANGE THE experiment_timeout_minutes PARAMETER OR YOUR INSTANCE WILL TIME OUT.\n",
        "# If you wish to run the experiment longer, you will need to run this notebook in your own\n",
        "# Azure tenant, which will incur personal costs.\n",
        "automl_config = AutoMLConfig(\n",
        "    experiment_timeout_minutes=30,\n",
        "    task='classification',\n",
        "    primary_metric='accuracy',\n",
        "    training_data=x,\n",
        "    label_column_name=label,\n",
        "    n_cross_validations=3)"
      ],
      "outputs": [],
      "execution_count": 45,
      "metadata": {
        "gather": {
          "logged": 1610738371207
        },
        "id": "U6g2OYy7WsfP",
        "jupyter": {
          "outputs_hidden": false,
          "source_hidden": false
        },
        "nteract": {
          "transient": {
            "deleting": false
          }
        }
      }
    },
    {
      "cell_type": "code",
      "source": [
        "# Submit your automl run\n",
        "\n",
        "### YOUR CODE HERE ###\n",
        "#ws = Workspace.from_config()\n",
        "#experiment = Experiment(ws, \"exp\")\n",
        "run = exp.submit(automl_config, show_output=True)\n",
        "run.wait_for_completion()"
      ],
      "outputs": [
        {
          "output_type": "stream",
          "name": "stdout",
          "text": [
            "No run_configuration provided, running on local with default configuration\n",
            "Running on local machine\n",
            "Parent Run ID: AutoML_fac91a1d-3be8-4509-8281-e9e1f0a03e7b\n",
            "\n",
            "Current status: DatasetEvaluation. Gathering dataset statistics.\n",
            "Current status: FeaturesGeneration. Generating features for the dataset.\n",
            "Current status: DatasetFeaturization. Beginning to fit featurizers and featurize the dataset.\n",
            "Current status: DatasetFeaturizationCompleted. Completed fit featurizers and featurizing the dataset.\n",
            "Current status: DatasetBalancing. Performing class balancing sweeping\n",
            "Current status: DatasetCrossValidationSplit. Generating individually featurized CV splits.\n",
            "\n",
            "****************************************************************************************************\n",
            "DATA GUARDRAILS: \n",
            "\n",
            "TYPE:         Class balancing detection\n",
            "STATUS:       ALERTED\n",
            "DESCRIPTION:  To decrease model bias, please cancel the current run and fix balancing problem.\n",
            "              Learn more about imbalanced data: https://aka.ms/AutomatedMLImbalancedData\n",
            "DETAILS:      Imbalanced data can lead to a falsely perceived positive effect of a model's accuracy because the input data has bias towards one class.\n",
            "+---------------------------------+---------------------------------+--------------------------------------+\n",
            "|Size of the smallest class       |Name/Label of the smallest class |Number of samples in the training data|\n",
            "+=================================+=================================+======================================+\n",
            "|7384                             |1                                |65900                                 |\n",
            "+---------------------------------+---------------------------------+--------------------------------------+\n",
            "\n",
            "****************************************************************************************************\n",
            "\n",
            "TYPE:         Missing feature values imputation\n",
            "STATUS:       PASSED\n",
            "DESCRIPTION:  No feature missing values were detected in the training data.\n",
            "              Learn more about missing value imputation: https://aka.ms/AutomatedMLFeaturization\n",
            "\n",
            "****************************************************************************************************\n",
            "\n",
            "TYPE:         High cardinality feature detection\n",
            "STATUS:       PASSED\n",
            "DESCRIPTION:  Your inputs were analyzed, and no high cardinality features were detected.\n",
            "              Learn more about high cardinality feature handling: https://aka.ms/AutomatedMLFeaturization\n",
            "\n",
            "****************************************************************************************************\n",
            "Current status: ModelSelection. Beginning model selection.\n",
            "\n",
            "****************************************************************************************************\n",
            "ITERATION: The iteration being evaluated.\n",
            "PIPELINE: A summary description of the pipeline being evaluated.\n",
            "DURATION: Time taken for the current iteration.\n",
            "METRIC: The result of computing score on the fitted pipeline.\n",
            "BEST: The best observed score thus far.\n",
            "****************************************************************************************************\n",
            "\n",
            " ITERATION   PIPELINE                                       DURATION      METRIC      BEST\n",
            "         0   MaxAbsScaler LightGBM                          0:00:41       0.9279    0.9279\n",
            "         1   MaxAbsScaler XGBoostClassifier                 0:00:45       0.9174    0.9279\n",
            "         2   MaxAbsScaler RandomForest                      0:00:37       0.8946    0.9279\n",
            "         3   MaxAbsScaler RandomForest                      0:00:32       0.8880    0.9279\n",
            "         4   MaxAbsScaler RandomForest                      0:00:31       0.8086    0.9279\n",
            "         5   MaxAbsScaler RandomForest                      0:00:29       0.7877    0.9279\n",
            "         6   SparseNormalizer XGBoostClassifier             0:00:53       0.9370    0.9370\n",
            "         7   MaxAbsScaler GradientBoosting                  0:00:52       0.9037    0.9370\n",
            "         8   StandardScalerWrapper RandomForest             0:00:37       0.9003    0.9370\n",
            "         9   MaxAbsScaler LogisticRegression                0:00:35       0.9095    0.9370\n",
            "        10   MaxAbsScaler LightGBM                          0:00:36       0.8911    0.9370\n",
            "        11   SparseNormalizer XGBoostClassifier             0:00:51       0.9372    0.9372\n",
            "        12   MaxAbsScaler ExtremeRandomTrees                0:02:12       0.8880    0.9372\n",
            "        13   SparseNormalizer XGBoostClassifier             0:01:52       0.9361    0.9372\n",
            "        14   StandardScalerWrapper LightGBM                 0:00:29       0.8880    0.9372\n",
            "        15   MaxAbsScaler LightGBM                          0:00:35       0.9115    0.9372\n",
            "        16   StandardScalerWrapper LightGBM                 0:00:37       0.8880    0.9372\n",
            "        17   StandardScalerWrapper XGBoostClassifier        0:00:33       0.9125    0.9372\n",
            "        18   MaxAbsScaler LightGBM                          0:00:30       0.8971    0.9372\n",
            "        19   SparseNormalizer XGBoostClassifier             0:00:41       0.9125    0.9372\n",
            "        20   SparseNormalizer LightGBM                      0:00:57       0.9182    0.9372\n",
            "        21   SparseNormalizer XGBoostClassifier             0:01:42       0.9330    0.9372\n",
            "        22   MaxAbsScaler ExtremeRandomTrees                0:01:25       0.8880    0.9372\n",
            "        23   SparseNormalizer XGBoostClassifier             0:00:59       0.9433    0.9433\n",
            "        24   StandardScalerWrapper XGBoostClassifier        0:01:02       0.9156    0.9433\n",
            "        25   SparseNormalizer XGBoostClassifier             0:00:56       0.8880    0.9433\n",
            "        26   VotingEnsemble                                 0:01:08       0.9428    0.9433\n",
            "        27   StackEnsemble                                  0:01:37       0.9451    0.9451\n",
            "Stopping criteria reached at iteration 28. Ending experiment.\n",
            "****************************************************************************************************\n",
            "Current status: BestRunExplainModel. Best run model explanations started\n",
            "Current status: ModelExplanationDataSetSetup. Model explanations data setup completed\n",
            "Current status: PickSurrogateModel. Choosing LightGBM as the surrogate model for explanations\n",
            "Current status: EngineeredFeatureExplanations. Computation of engineered features started\n",
            "Current status: EngineeredFeatureExplanations. Computation of engineered features completed\n",
            "Current status: RawFeaturesExplanations. Computation of raw features started\n",
            "Current status: RawFeaturesExplanations. Computation of raw features completed\n",
            "Current status: BestRunExplainModel. Best run model explanations completed\n",
            "****************************************************************************************************\n"
          ]
        },
        {
          "output_type": "execute_result",
          "execution_count": 46,
          "data": {
            "text/plain": "{'runId': 'AutoML_fac91a1d-3be8-4509-8281-e9e1f0a03e7b',\n 'target': 'local',\n 'status': 'Completed',\n 'startTimeUtc': '2021-01-15T19:20:23.266278Z',\n 'endTimeUtc': '2021-01-15T19:53:44.004135Z',\n 'properties': {'num_iterations': '1000',\n  'training_type': 'TrainFull',\n  'acquisition_function': 'EI',\n  'primary_metric': 'accuracy',\n  'train_split': '0',\n  'acquisition_parameter': '0',\n  'num_cross_validation': '3',\n  'target': 'local',\n  'AMLSettingsJsonString': '{\"path\":null,\"name\":\"quick-starts-ws-134795\",\"subscription_id\":\"9a7511b8-150f-4a58-8528-3e7d50216c31\",\"resource_group\":\"aml-quickstarts-134795\",\"workspace_name\":\"quick-starts-ws-134795\",\"region\":\"southcentralus\",\"compute_target\":\"local\",\"spark_service\":null,\"azure_service\":\"Microsoft.AzureNotebookVM\",\"many_models\":false,\"pipeline_fetch_max_batch_size\":1,\"iterations\":1000,\"primary_metric\":\"accuracy\",\"task_type\":\"classification\",\"data_script\":null,\"validation_size\":0.0,\"n_cross_validations\":3,\"y_min\":null,\"y_max\":null,\"num_classes\":2,\"featurization\":\"auto\",\"_ignore_package_version_incompatibilities\":false,\"is_timeseries\":false,\"max_cores_per_iteration\":1,\"max_concurrent_iterations\":1,\"iteration_timeout_minutes\":null,\"mem_in_mb\":null,\"enforce_time_on_windows\":false,\"experiment_timeout_minutes\":30,\"experiment_exit_score\":null,\"whitelist_models\":null,\"blacklist_algos\":[\"TensorFlowLinearClassifier\",\"TensorFlowDNN\"],\"supported_models\":[\"TensorFlowDNN\",\"KNN\",\"XGBoostClassifier\",\"LightGBM\",\"GradientBoosting\",\"LinearSVM\",\"LogisticRegression\",\"DecisionTree\",\"TensorFlowLinearClassifier\",\"SGD\",\"RandomForest\",\"AveragedPerceptronClassifier\",\"BernoulliNaiveBayes\",\"ExtremeRandomTrees\",\"SVM\",\"MultinomialNaiveBayes\"],\"auto_blacklist\":true,\"blacklist_samples_reached\":false,\"exclude_nan_labels\":true,\"verbosity\":20,\"_debug_log\":\"automl.log\",\"show_warnings\":false,\"model_explainability\":true,\"service_url\":null,\"sdk_url\":null,\"sdk_packages\":null,\"enable_onnx_compatible_models\":false,\"enable_split_onnx_featurizer_estimator_models\":false,\"vm_type\":null,\"telemetry_verbosity\":20,\"send_telemetry\":true,\"enable_dnn\":false,\"scenario\":\"SDK-1.13.0\",\"environment_label\":null,\"force_text_dnn\":false,\"enable_feature_sweeping\":true,\"enable_early_stopping\":false,\"early_stopping_n_iters\":10,\"metrics\":null,\"enable_ensembling\":true,\"enable_stack_ensembling\":true,\"ensemble_iterations\":15,\"enable_tf\":false,\"enable_subsampling\":null,\"subsample_seed\":null,\"enable_nimbusml\":false,\"enable_streaming\":false,\"force_streaming\":false,\"track_child_runs\":true,\"allowed_private_models\":[],\"label_column_name\":\"y\",\"weight_column_name\":null,\"cv_split_column_names\":null,\"enable_local_managed\":false,\"_local_managed_run_id\":null,\"cost_mode\":1,\"lag_length\":0,\"metric_operation\":\"maximize\",\"preprocess\":true}',\n  'DataPrepJsonString': None,\n  'EnableSubsampling': None,\n  'runTemplate': 'AutoML',\n  'azureml.runsource': 'automl',\n  'display_task_type': 'classification',\n  'dependencies_versions': '{\"azureml-widgets\": \"1.19.0\", \"azureml-train\": \"1.19.0\", \"azureml-train-restclients-hyperdrive\": \"1.19.0\", \"azureml-train-core\": \"1.19.0\", \"azureml-train-automl\": \"1.19.0\", \"azureml-train-automl-runtime\": \"1.19.0\", \"azureml-train-automl-client\": \"1.19.0\", \"azureml-tensorboard\": \"1.19.0\", \"azureml-telemetry\": \"1.19.0\", \"azureml-sdk\": \"1.19.0\", \"azureml-samples\": \"0+unknown\", \"azureml-pipeline\": \"1.19.0\", \"azureml-pipeline-steps\": \"1.19.0\", \"azureml-pipeline-core\": \"1.19.0\", \"azureml-opendatasets\": \"1.19.0\", \"azureml-model-management-sdk\": \"1.0.1b6.post1\", \"azureml-mlflow\": \"1.19.0\", \"azureml-interpret\": \"1.19.0\", \"azureml-explain-model\": \"1.19.0\", \"azureml-defaults\": \"1.19.0\", \"azureml-dataset-runtime\": \"1.19.0.post1\", \"azureml-dataprep\": \"2.6.1\", \"azureml-dataprep-rslex\": \"1.4.0\", \"azureml-dataprep-native\": \"26.0.0\", \"azureml-datadrift\": \"1.19.0\", \"azureml-core\": \"1.19.0\", \"azureml-contrib-services\": \"1.19.0\", \"azureml-contrib-server\": \"1.19.0\", \"azureml-contrib-reinforcementlearning\": \"1.19.0\", \"azureml-contrib-pipeline-steps\": \"1.19.0\", \"azureml-contrib-notebook\": \"1.19.0\", \"azureml-contrib-interpret\": \"1.19.0\", \"azureml-contrib-gbdt\": \"1.19.0\", \"azureml-contrib-fairness\": \"1.19.0\", \"azureml-contrib-dataset\": \"1.19.0\", \"azureml-cli-common\": \"1.19.0\", \"azureml-automl-runtime\": \"1.19.0\", \"azureml-automl-core\": \"1.19.0\", \"azureml-accel-models\": \"1.19.0\"}',\n  '_aml_system_scenario_identification': 'Local.Parent',\n  'ClientSdkVersion': '1.19.0',\n  'ClientType': 'SDK',\n  'environment_cpu_name': 'AzureML-AutoML',\n  'environment_cpu_label': 'prod',\n  'environment_gpu_name': 'AzureML-AutoML-GPU',\n  'environment_gpu_label': 'prod',\n  'root_attribution': 'automl',\n  'attribution': 'AutoML',\n  'Orchestrator': 'AutoML',\n  '_azureml.ComputeTargetType': 'local',\n  'ProblemInfoJsonString': '{\"dataset_num_categorical\": 0, \"is_sparse\": true, \"subsampling\": false, \"dataset_classes\": 2, \"dataset_features\": 122, \"dataset_samples\": 65900, \"single_frequency_class_detected\": false}',\n  'feature_skus': 'automatedml_sdk_guardrails'},\n 'inputDatasets': [],\n 'outputDatasets': [],\n 'logFiles': {}}"
          },
          "metadata": {}
        }
      ],
      "execution_count": 46,
      "metadata": {
        "id": "7iOcsslmWsfP",
        "jupyter": {
          "outputs_hidden": false,
          "source_hidden": false
        },
        "nteract": {
          "transient": {
            "deleting": false
          }
        },
        "gather": {
          "logged": 1610740492171
        }
      }
    },
    {
      "cell_type": "code",
      "source": [
        "# Retrieve and save your best automl model.\n",
        "\n",
        "### YOUR CODE HERE ###\n",
        "best_run, fitted_model = run.get_output()\n",
        "print(best_run)\n",
        "print(fitted_model)"
      ],
      "outputs": [
        {
          "output_type": "stream",
          "name": "stdout",
          "text": [
            "Run(Experiment: quick-starts-ws-134795,\n",
            "Id: AutoML_fac91a1d-3be8-4509-8281-e9e1f0a03e7b_27,\n",
            "Type: None,\n",
            "Status: Completed)\n",
            "Pipeline(memory=None,\n",
            "         steps=[('datatransformer',\n",
            "                 DataTransformer(enable_dnn=None, enable_feature_sweeping=None,\n",
            "                                 feature_sweeping_config=None,\n",
            "                                 feature_sweeping_timeout=None,\n",
            "                                 featurization_config=None, force_text_dnn=None,\n",
            "                                 is_cross_validation=None,\n",
            "                                 is_onnx_compatible=None, logger=None,\n",
            "                                 observer=None, task=None, working_dir=None)),\n",
            "                ('stackensembleclassifier',\n",
            "                 StackE...\n",
            "                                         meta_learner=LogisticRegressionCV(Cs=10,\n",
            "                                                                           class_weight=None,\n",
            "                                                                           cv=None,\n",
            "                                                                           dual=False,\n",
            "                                                                           fit_intercept=True,\n",
            "                                                                           intercept_scaling=1.0,\n",
            "                                                                           l1_ratios=None,\n",
            "                                                                           max_iter=100,\n",
            "                                                                           multi_class='auto',\n",
            "                                                                           n_jobs=None,\n",
            "                                                                           penalty='l2',\n",
            "                                                                           random_state=None,\n",
            "                                                                           refit=True,\n",
            "                                                                           scoring=<azureml.automl.runtime.stack_ensemble_base.Scorer object at 0x7f76173d9e10>,\n",
            "                                                                           solver='lbfgs',\n",
            "                                                                           tol=0.0001,\n",
            "                                                                           verbose=0),\n",
            "                                         training_cv_folds=5))],\n",
            "         verbose=False)\n"
          ]
        }
      ],
      "execution_count": 47,
      "metadata": {
        "id": "pSRFDla0WsfQ",
        "gather": {
          "logged": 1610740492950
        }
      }
    },
    {
      "cell_type": "code",
      "source": [
        "model_name = best_run.properties['model_name']\n",
        "\n",
        "script_file_name = 'score.py'\n",
        "\n",
        "best_run.download_file('outputs/scoring_file_v_1_0_0.py', 'score.py')"
      ],
      "outputs": [],
      "execution_count": 48,
      "metadata": {
        "gather": {
          "logged": 1610740527628
        }
      }
    }
  ],
  "metadata": {
    "colab": {
      "collapsed_sections": [],
      "name": "udacity-project V 1.0.ipynb",
      "provenance": []
    },
    "kernel_info": {
      "name": "python3"
    },
    "kernelspec": {
      "name": "python3",
      "language": "python",
      "display_name": "Python 3"
    },
    "language_info": {
      "name": "python",
      "version": "3.6.9",
      "mimetype": "text/x-python",
      "codemirror_mode": {
        "name": "ipython",
        "version": 3
      },
      "pygments_lexer": "ipython3",
      "nbconvert_exporter": "python",
      "file_extension": ".py"
    },
    "nteract": {
      "version": "nteract-front-end@1.0.0"
    }
  },
  "nbformat": 4,
  "nbformat_minor": 1
}